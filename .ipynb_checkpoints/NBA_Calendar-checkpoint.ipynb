{
 "cells": [
  {
   "cell_type": "code",
   "execution_count": 5,
   "metadata": {},
   "outputs": [],
   "source": [
    "import json\n",
    "import datetime\n",
    "import requests\n",
    "\n",
    "# get NBA schedule data as JSON\n",
    "\n",
    "def year_calendar (year, path = r\"2020-21/\"):\n",
    "    r = requests.get('https://data.nba.com/data/10s/v2015/json/mobile_teams/nba/' + str(year) + '/league/00_full_schedule.json')\n",
    "    json_data = r.json()\n",
    "\n",
    "    # prepare output files\n",
    "    fout = open(path+\"filtered_schedule.csv\", \"w\")\n",
    "    fout.writelines('GameDate, GameID, Visitor, Home, HomeWin')\n",
    "\n",
    "    current_dt = datetime.datetime.now() \n",
    "\n",
    "    # loop through each month/game and write out stats to file\n",
    "    for i in range(len(json_data['lscd'])):\n",
    "        for j in range(len(json_data['lscd'][i]['mscd']['g'])):\n",
    "            gamedate = json_data['lscd'][i]['mscd']['g'][j]['gdte']\n",
    "            gamedate_dt = datetime.datetime.strptime(gamedate, \"%Y-%m-%d\")\n",
    "\n",
    "            game_id = json_data['lscd'][i]['mscd']['g'][j]['gid']\n",
    "            visiting_team = json_data['lscd'][i]['mscd']['g'][j]['v']['ta']\n",
    "            home_team = json_data['lscd'][i]['mscd']['g'][j]['h']['ta']\n",
    "\n",
    "            fout.write('\\n' + gamedate +','+ game_id +','+ visiting_team +','+ home_team)\n",
    "\n",
    "            # don't access scores for games that haven't been played yet\n",
    "            if(gamedate_dt < current_dt):  \n",
    "                home_team_won = json_data['lscd'][i]['mscd']['g'][j]['h']['s'] > json_data['lscd'][i]['mscd']['g'][j]['v']['s']\n",
    "                fout.write(','+ str(home_team_won))\n",
    "\n",
    "\n",
    "    fout.close()\n",
    "    r.close()\n",
    "    print(f'calendar for year {year} exported succesfully')"
   ]
  },
  {
   "cell_type": "code",
   "execution_count": 6,
   "metadata": {},
   "outputs": [
    {
     "name": "stdout",
     "output_type": "stream",
     "text": [
      "calendar for year 2020 exported succesfully\n"
     ]
    }
   ],
   "source": [
    "year_calendar(2020)"
   ]
  }
 ],
 "metadata": {
  "kernelspec": {
   "display_name": "Python 3",
   "language": "python",
   "name": "python3"
  },
  "language_info": {
   "codemirror_mode": {
    "name": "ipython",
    "version": 3
   },
   "file_extension": ".py",
   "mimetype": "text/x-python",
   "name": "python",
   "nbconvert_exporter": "python",
   "pygments_lexer": "ipython3",
   "version": "3.7.4"
  }
 },
 "nbformat": 4,
 "nbformat_minor": 4
}
