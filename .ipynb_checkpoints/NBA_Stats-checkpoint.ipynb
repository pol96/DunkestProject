{
 "cells": [
  {
   "cell_type": "code",
   "execution_count": 1,
   "metadata": {},
   "outputs": [
    {
     "name": "stdout",
     "output_type": "stream",
     "text": [
      "Collecting nba_api\n",
      "  Downloading nba_api-1.1.9-py3-none-any.whl (242 kB)\n",
      "Requirement already satisfied: requests in c:\\users\\ptico\\miniconda3\\lib\\site-packages (from nba_api) (2.23.0)\n",
      "Requirement already satisfied: chardet<4,>=3.0.2 in c:\\users\\ptico\\miniconda3\\lib\\site-packages (from requests->nba_api) (3.0.4)\n",
      "Requirement already satisfied: idna<3,>=2.5 in c:\\users\\ptico\\miniconda3\\lib\\site-packages (from requests->nba_api) (2.9)\n",
      "Requirement already satisfied: urllib3!=1.25.0,!=1.25.1,<1.26,>=1.21.1 in c:\\users\\ptico\\miniconda3\\lib\\site-packages (from requests->nba_api) (1.24.3)\n",
      "Requirement already satisfied: certifi>=2017.4.17 in c:\\users\\ptico\\miniconda3\\lib\\site-packages (from requests->nba_api) (2020.12.5)\n",
      "Installing collected packages: nba-api\n",
      "Successfully installed nba-api-1.1.9\n",
      "Note: you may need to restart the kernel to use updated packages.\n"
     ]
    }
   ],
   "source": [
    "#pip install nba_api"
   ]
  },
  {
   "cell_type": "code",
   "execution_count": 1,
   "metadata": {},
   "outputs": [],
   "source": [
    "from nba_api.stats.static import players as pl\n",
    "from nba_api.stats.static import teams\n",
    "from nba_api.stats.endpoints import playergamelog as pgl\n",
    "import pandas as pd\n",
    "import numpy as np\n",
    "from time import sleep"
   ]
  },
  {
   "cell_type": "code",
   "execution_count": null,
   "metadata": {},
   "outputs": [],
   "source": [
    "def nba_stats (season = 2021):\n",
    "    active_players = pd.DataFrame(pl.get_active_players())\n",
    "    final = pd.DataFrame()\n",
    "    for pid in active_players.id:\n",
    "            try:\n",
    "                df = pgl.PlayerGameLog(player_id = pid, season = season)\n",
    "                df_2 = df.get_data_frames()[0]\n",
    "                final = final.append(df_2, ignore_index = True)\n",
    "            #print(f'season {s} done')\n",
    "            except:\n",
    "                pass\n",
    "    return(final.drop(['VIDEO_AVAILABLE'],1))"
   ]
  },
  {
   "cell_type": "code",
   "execution_count": null,
   "metadata": {},
   "outputs": [],
   "source": [
    "df = final.drop(['VIDEO_AVAILABLE'],1)\n",
    "#= final[['SEASON_ID', 'Player_ID', 'MATCHUP', 'WL',\n",
    "#       'MIN', 'FGM', 'FGA', 'FG3M', 'FG3A', 'FTM', 'FTA', 'OREB', 'DREB', 'REB', 'AST', 'STL', 'BLK', 'TOV', 'PF',\n",
    "#       'PTS', 'PLUS_MINUS']]"
   ]
  },
  {
   "cell_type": "code",
   "execution_count": null,
   "metadata": {},
   "outputs": [],
   "source": [
    "###############################"
   ]
  },
  {
   "cell_type": "code",
   "execution_count": 31,
   "metadata": {},
   "outputs": [],
   "source": [
    "nba_teams = pd.DataFrame(teams.get_teams())"
   ]
  },
  {
   "cell_type": "code",
   "execution_count": 28,
   "metadata": {},
   "outputs": [],
   "source": [
    "#final.to_csv(r'C:\\Users\\ptico\\Google Drive\\DUNKEST Project\\2020-21\\NBA_Players_Stats.csv', sep = ',', index = False)\n",
    "#active_players.to_csv(r'C:\\Users\\ptico\\Google Drive\\DUNKEST Project\\2020-21\\NBA_Active_Players.csv', sep = ',', index = False)\n",
    "#nba_teams.to_csv(r'C:\\Users\\ptico\\Google Drive\\DUNKEST Project\\2020-21\\NBA_Teams.csv', sep = ',', index = False)"
   ]
  }
 ],
 "metadata": {
  "kernelspec": {
   "display_name": "Python 3",
   "language": "python",
   "name": "python3"
  },
  "language_info": {
   "codemirror_mode": {
    "name": "ipython",
    "version": 3
   },
   "file_extension": ".py",
   "mimetype": "text/x-python",
   "name": "python",
   "nbconvert_exporter": "python",
   "pygments_lexer": "ipython3",
   "version": "3.7.4"
  }
 },
 "nbformat": 4,
 "nbformat_minor": 4
}
